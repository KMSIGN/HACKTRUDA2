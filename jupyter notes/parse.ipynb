{
 "metadata": {
  "language_info": {
   "codemirror_mode": {
    "name": "ipython",
    "version": 3
   },
   "file_extension": ".py",
   "mimetype": "text/x-python",
   "name": "python",
   "nbconvert_exporter": "python",
   "pygments_lexer": "ipython3",
   "version": "3.8.5-final"
  },
  "orig_nbformat": 2,
  "kernelspec": {
   "name": "python_defaultSpec_1600593313073",
   "display_name": "Python 3.8.5 64-bit ('hacktrud': conda)"
  }
 },
 "nbformat": 4,
 "nbformat_minor": 2,
 "cells": [
  {
   "cell_type": "code",
   "execution_count": 1,
   "metadata": {},
   "outputs": [],
   "source": [
    "import pandas as pd\n",
    "from tqdm import tqdm"
   ]
  },
  {
   "cell_type": "code",
   "execution_count": 2,
   "metadata": {},
   "outputs": [],
   "source": [
    "questions_models = {\n",
    "    \"Кладовщик\":{\n",
    "        \"q1\": \"Желаемая должность\",\n",
    "        \"q2\": \"У вас есть опыт работы кладовщиком?\",\n",
    "        \"q2d\": \"У вас есть опыт работы кладовщиком? строка\",\n",
    "        \"q3\": \"Укажите Ваш стаж работы кладовщиком\",\n",
    "        \"q4\": \"Отрасль\",\n",
    "        \"q5\": \"Названия компаний\",\n",
    "        \"q6\": \"С какой системой хранения Вы имели опыт работы?\",\n",
    "        \"q7\": \"Опыт работы с программами\",\n",
    "        \"q8\": \"Опыт с инструментарием\",\n",
    "        \"q9\": \"Типы работ\",\n",
    "        \"q10\": \"Сколько времени вы потратили на поиск работы кладовщика?\",\n",
    "        \"q11\": \"Уровень ЗП (желаемый)\"\n",
    "    },\n",
    "    \"Водитель погрузчика\":{\n",
    "        \"q1\": \"Желаемая должность\",\n",
    "        \"q2\": \"У вас есть водительские права?\",\n",
    "        \"q3\": \"Водительское удостоверение\",\n",
    "        \"q4\": \"Удостоверение тракториста-машиниста нового образца\",\n",
    "        \"q5\": \"Удостоверение тракториста-машиниста старого образца\",\n",
    "        \"q6\": \"У вас есть опыт работы водителем погрузчиком?\",\n",
    "        \"q7\": \"Ваш стаж работы водителем погрузчика\",\n",
    "        \"q8\": \"Сфера деятельности\",\n",
    "        \"q9\": \"Названия компаний\",\n",
    "        \"q10\": \"Какой техникой вы управляете?\",\n",
    "        \"q11\": \"Максимальная высота поднятия груза\",\n",
    "        \"q12\": \"С какой системой хранения Вы имели опыт работы?\",\n",
    "        \"q13\": \"удостоверение стропальщика?\",\n",
    "        \"q14\": \"Типы работ\",\n",
    "        \"q15\": \"Возможность провести тест-драйв на собеседовании\",\n",
    "        \"q16\": \"Ключевые качества\",\n",
    "        \"q17\": \"Знание языков\",\n",
    "        \"q19\": \"Хобби\",\n",
    "        \"q20\": \"Уровень ЗП\",\n",
    "        \"q21\": \"График работы\",\n",
    "        \"q22\": \"Ночная смена\",\n",
    "        \"q23\": \"Командировки\",\n",
    "        \"q24\": \"Станции метро\"\n",
    "    },\n",
    "    \"Официант\":{\n",
    "        \"q1\": \"Желаемая должность\",\n",
    "        \"q2\": \"Есть ли у Вас профессиональное образование в сфере гостеприимства?\",\n",
    "        \"q3\": \"профессиональное образовательное учреждение, где вы учились, и специальность\",\n",
    "        \"q4\": \"Год окончания обучения\",\n",
    "        \"q5\": \"Стаж работы официантом\",\n",
    "        \"q6\": \"Рестораны, где работал\",\n",
    "        \"q7\": \"дополнительные профессиональные знания и навыки\",\n",
    "        \"q8\": \"Знание языков\",\n",
    "        \"q9\": \"C какой посудой работали\",\n",
    "        \"q10\": \"График работы\"\n",
    "    }\n",
    "}"
   ]
  },
  {
   "cell_type": "code",
   "execution_count": 3,
   "metadata": {},
   "outputs": [],
   "source": [
    "df_resume = pd.read_csv('./../resume_to_hackaton.csv', sep=';')\n",
    "target_positions = list(questions_models.keys())"
   ]
  },
  {
   "cell_type": "code",
   "execution_count": 4,
   "metadata": {},
   "outputs": [],
   "source": [
    "df_target_resume = df_resume[df_resume['position'].isin(target_positions)]"
   ]
  },
  {
   "cell_type": "code",
   "execution_count": 5,
   "metadata": {},
   "outputs": [],
   "source": [
    "df_target_resume = df_target_resume.drop(columns=['organization', 'description', 'start', 'end'])"
   ]
  },
  {
   "cell_type": "code",
   "execution_count": 6,
   "metadata": {},
   "outputs": [
    {
     "output_type": "execute_result",
     "data": {
      "text/plain": "                                       uuid             position\n5      85bfe532-1108-4142-bae5-29818bfc70a0             Официант\n6      85bfe532-1108-4142-bae5-29818bfc70a0             Официант\n10     0743411b-d3f2-4fad-8476-d8de115a5866             Официант\n11     c7f5d8ff-dfe4-46ad-9572-75f6c211498f  Водитель погрузчика\n15     0a4d202a-66fe-4439-9c8d-23986fbd1a1b            Кладовщик\n...                                     ...                  ...\n99980  8e6a2c84-7a79-42dd-89b0-e97eb4057dd3            Кладовщик\n99981  23793ee0-66b2-46d1-9760-18174868f9b4            Кладовщик\n99983  ad8f2ec1-d866-4ab7-9cc3-571780c35ec4             Официант\n99987  b1d06b98-e183-48d0-968f-44f3303e4438             Официант\n99996  df2f6158-c03b-4545-a4c5-e5bf80fd5a5b             Официант\n\n[30587 rows x 2 columns]",
      "text/html": "<div>\n<style scoped>\n    .dataframe tbody tr th:only-of-type {\n        vertical-align: middle;\n    }\n\n    .dataframe tbody tr th {\n        vertical-align: top;\n    }\n\n    .dataframe thead th {\n        text-align: right;\n    }\n</style>\n<table border=\"1\" class=\"dataframe\">\n  <thead>\n    <tr style=\"text-align: right;\">\n      <th></th>\n      <th>uuid</th>\n      <th>position</th>\n    </tr>\n  </thead>\n  <tbody>\n    <tr>\n      <th>5</th>\n      <td>85bfe532-1108-4142-bae5-29818bfc70a0</td>\n      <td>Официант</td>\n    </tr>\n    <tr>\n      <th>6</th>\n      <td>85bfe532-1108-4142-bae5-29818bfc70a0</td>\n      <td>Официант</td>\n    </tr>\n    <tr>\n      <th>10</th>\n      <td>0743411b-d3f2-4fad-8476-d8de115a5866</td>\n      <td>Официант</td>\n    </tr>\n    <tr>\n      <th>11</th>\n      <td>c7f5d8ff-dfe4-46ad-9572-75f6c211498f</td>\n      <td>Водитель погрузчика</td>\n    </tr>\n    <tr>\n      <th>15</th>\n      <td>0a4d202a-66fe-4439-9c8d-23986fbd1a1b</td>\n      <td>Кладовщик</td>\n    </tr>\n    <tr>\n      <th>...</th>\n      <td>...</td>\n      <td>...</td>\n    </tr>\n    <tr>\n      <th>99980</th>\n      <td>8e6a2c84-7a79-42dd-89b0-e97eb4057dd3</td>\n      <td>Кладовщик</td>\n    </tr>\n    <tr>\n      <th>99981</th>\n      <td>23793ee0-66b2-46d1-9760-18174868f9b4</td>\n      <td>Кладовщик</td>\n    </tr>\n    <tr>\n      <th>99983</th>\n      <td>ad8f2ec1-d866-4ab7-9cc3-571780c35ec4</td>\n      <td>Официант</td>\n    </tr>\n    <tr>\n      <th>99987</th>\n      <td>b1d06b98-e183-48d0-968f-44f3303e4438</td>\n      <td>Официант</td>\n    </tr>\n    <tr>\n      <th>99996</th>\n      <td>df2f6158-c03b-4545-a4c5-e5bf80fd5a5b</td>\n      <td>Официант</td>\n    </tr>\n  </tbody>\n</table>\n<p>30587 rows × 2 columns</p>\n</div>"
     },
     "metadata": {},
     "execution_count": 6
    }
   ],
   "source": [
    "df_target_resume"
   ]
  },
  {
   "cell_type": "code",
   "execution_count": 7,
   "metadata": {
    "tags": []
   },
   "outputs": [
    {
     "output_type": "stream",
     "name": "stderr",
     "text": "[WDM] - Current google-chrome version is 85.0.4183\n[WDM] - Get LATEST driver version for 85.0.4183\n[WDM] - Driver [/home/royalcat/.wdm/drivers/chromedriver/linux64/85.0.4183.87/chromedriver] found in cache\n \n"
    }
   ],
   "source": [
    "import backend"
   ]
  },
  {
   "cell_type": "code",
   "execution_count": 8,
   "metadata": {
    "tags": []
   },
   "outputs": [
    {
     "output_type": "stream",
     "name": "stderr",
     "text": "[nltk_data] Downloading package stopwords to\n[nltk_data]     /home/royalcat/nltk_data...\n[nltk_data]   Package stopwords is already up-to-date!\n"
    }
   ],
   "source": [
    "parser = backend.HHParser()"
   ]
  },
  {
   "cell_type": "code",
   "execution_count": 9,
   "metadata": {
    "tags": []
   },
   "outputs": [
    {
     "output_type": "stream",
     "name": "stderr",
     "text": "0%|          | 0/30587 [00:00<?, ?it/s]list index out of range\n  0%|          | 0/30587 [00:05<?, ?it/s]\n"
    },
    {
     "output_type": "error",
     "ename": "AttributeError",
     "evalue": "'NoneType' object has no attribute 'text'",
     "traceback": [
      "\u001b[0;31m---------------------------------------------------------------------------\u001b[0m",
      "\u001b[0;31mAttributeError\u001b[0m                            Traceback (most recent call last)",
      "\u001b[0;32m<ipython-input-9-d4b1ae25a5af>\u001b[0m in \u001b[0;36m<module>\u001b[0;34m\u001b[0m\n\u001b[1;32m      1\u001b[0m \u001b[0manswers\u001b[0m \u001b[0;34m=\u001b[0m \u001b[0;34m[\u001b[0m\u001b[0;34m]\u001b[0m\u001b[0;34m\u001b[0m\u001b[0;34m\u001b[0m\u001b[0m\n\u001b[1;32m      2\u001b[0m \u001b[0;32mfor\u001b[0m \u001b[0mi\u001b[0m\u001b[0;34m,\u001b[0m \u001b[0mrow\u001b[0m \u001b[0;32min\u001b[0m \u001b[0mtqdm\u001b[0m\u001b[0;34m(\u001b[0m\u001b[0mdf_target_resume\u001b[0m\u001b[0;34m.\u001b[0m\u001b[0msample\u001b[0m\u001b[0;34m(\u001b[0m\u001b[0;36m1\u001b[0m\u001b[0;34m)\u001b[0m\u001b[0;34m.\u001b[0m\u001b[0miterrows\u001b[0m\u001b[0;34m(\u001b[0m\u001b[0;34m)\u001b[0m\u001b[0;34m,\u001b[0m \u001b[0mtotal\u001b[0m\u001b[0;34m=\u001b[0m\u001b[0mlen\u001b[0m\u001b[0;34m(\u001b[0m\u001b[0mdf_target_resume\u001b[0m\u001b[0;34m)\u001b[0m\u001b[0;34m)\u001b[0m\u001b[0;34m:\u001b[0m\u001b[0;34m\u001b[0m\u001b[0;34m\u001b[0m\u001b[0m\n\u001b[0;32m----> 3\u001b[0;31m     \u001b[0manswer\u001b[0m \u001b[0;34m=\u001b[0m \u001b[0;34m(\u001b[0m\u001b[0mparser\u001b[0m\u001b[0;34m.\u001b[0m\u001b[0manswer_questions\u001b[0m\u001b[0;34m(\u001b[0m\u001b[0mrow\u001b[0m\u001b[0;34m[\u001b[0m\u001b[0;34m'uuid'\u001b[0m\u001b[0;34m]\u001b[0m\u001b[0;34m,\u001b[0m \u001b[0mquestions_models\u001b[0m\u001b[0;34m[\u001b[0m\u001b[0mrow\u001b[0m\u001b[0;34m[\u001b[0m\u001b[0;34m'position'\u001b[0m\u001b[0;34m]\u001b[0m\u001b[0;34m]\u001b[0m\u001b[0;34m.\u001b[0m\u001b[0mvalues\u001b[0m\u001b[0;34m(\u001b[0m\u001b[0;34m)\u001b[0m\u001b[0;34m)\u001b[0m\u001b[0;34m)\u001b[0m\u001b[0;34m\u001b[0m\u001b[0;34m\u001b[0m\u001b[0m\n\u001b[0m\u001b[1;32m      4\u001b[0m     \u001b[0manswers\u001b[0m\u001b[0;34m.\u001b[0m\u001b[0mappend\u001b[0m\u001b[0;34m(\u001b[0m\u001b[0manswer\u001b[0m\u001b[0;34m)\u001b[0m\u001b[0;34m\u001b[0m\u001b[0;34m\u001b[0m\u001b[0m\n",
      "\u001b[0;32m~/projects/hacktrud/HACKTRUDA2/jupyter notes/backend/backend.py\u001b[0m in \u001b[0;36manswer_questions\u001b[0;34m(self, uid, questions)\u001b[0m\n\u001b[1;32m     37\u001b[0m         \u001b[0;32mfor\u001b[0m \u001b[0mquestion\u001b[0m \u001b[0;32min\u001b[0m \u001b[0mquestions\u001b[0m\u001b[0;34m:\u001b[0m\u001b[0;34m\u001b[0m\u001b[0;34m\u001b[0m\u001b[0m\n\u001b[1;32m     38\u001b[0m             \u001b[0mquestion_terms\u001b[0m \u001b[0;34m=\u001b[0m \u001b[0mself\u001b[0m\u001b[0;34m.\u001b[0m\u001b[0mpreprocess_text\u001b[0m\u001b[0;34m(\u001b[0m\u001b[0mquestion\u001b[0m\u001b[0;34m,\u001b[0m \u001b[0;36m2\u001b[0m\u001b[0;34m)\u001b[0m\u001b[0;34m\u001b[0m\u001b[0;34m\u001b[0m\u001b[0m\n\u001b[0;32m---> 39\u001b[0;31m             \u001b[0manswer\u001b[0m \u001b[0;34m=\u001b[0m \u001b[0mparsehh\u001b[0m\u001b[0;34m(\u001b[0m\u001b[0muid\u001b[0m\u001b[0;34m,\u001b[0m \u001b[0mquestion_terms\u001b[0m\u001b[0;34m=\u001b[0m\u001b[0mquestion_terms\u001b[0m\u001b[0;34m)\u001b[0m\u001b[0;34m\u001b[0m\u001b[0;34m\u001b[0m\u001b[0m\n\u001b[0m\u001b[1;32m     40\u001b[0m             \u001b[0;32mif\u001b[0m \u001b[0manswer\u001b[0m \u001b[0;32mis\u001b[0m \u001b[0;32mnot\u001b[0m \u001b[0;32mNone\u001b[0m \u001b[0;32mand\u001b[0m \u001b[0manswer\u001b[0m \u001b[0;32mis\u001b[0m \u001b[0;32mnot\u001b[0m \u001b[0;34m{\u001b[0m\u001b[0;34m}\u001b[0m\u001b[0;34m:\u001b[0m\u001b[0;34m\u001b[0m\u001b[0;34m\u001b[0m\u001b[0m\n\u001b[1;32m     41\u001b[0m                 \u001b[0manswers\u001b[0m\u001b[0;34m[\u001b[0m\u001b[0mquestion\u001b[0m\u001b[0;34m]\u001b[0m \u001b[0;34m=\u001b[0m \u001b[0manswer\u001b[0m\u001b[0;34m\u001b[0m\u001b[0;34m\u001b[0m\u001b[0m\n",
      "\u001b[0;32m~/projects/hacktrud/HACKTRUDA2/jupyter notes/backend/hhparser.py\u001b[0m in \u001b[0;36mparsehh\u001b[0;34m(uid, question_terms)\u001b[0m\n\u001b[1;32m    105\u001b[0m         \u001b[0;32mfor\u001b[0m \u001b[0mname\u001b[0m \u001b[0;32min\u001b[0m \u001b[0mquestion_terms\u001b[0m\u001b[0;34m:\u001b[0m\u001b[0;34m\u001b[0m\u001b[0;34m\u001b[0m\u001b[0m\n\u001b[1;32m    106\u001b[0m             \u001b[0;32mif\u001b[0m \u001b[0mname\u001b[0m \u001b[0;32min\u001b[0m \u001b[0mterm_parsers\u001b[0m\u001b[0;34m.\u001b[0m\u001b[0mkeys\u001b[0m\u001b[0;34m(\u001b[0m\u001b[0;34m)\u001b[0m\u001b[0;34m:\u001b[0m\u001b[0;34m\u001b[0m\u001b[0;34m\u001b[0m\u001b[0m\n\u001b[0;32m--> 107\u001b[0;31m                 \u001b[0mname_term\u001b[0m \u001b[0;34m=\u001b[0m \u001b[0mterm_parsers\u001b[0m\u001b[0;34m[\u001b[0m\u001b[0mname\u001b[0m\u001b[0;34m]\u001b[0m\u001b[0;34m(\u001b[0m\u001b[0mcontent\u001b[0m\u001b[0;34m)\u001b[0m\u001b[0;34m\u001b[0m\u001b[0;34m\u001b[0m\u001b[0m\n\u001b[0m\u001b[1;32m    108\u001b[0m                 \u001b[0;32mif\u001b[0m \u001b[0mtype\u001b[0m\u001b[0;34m(\u001b[0m\u001b[0mname_term\u001b[0m\u001b[0;34m)\u001b[0m \u001b[0;32mis\u001b[0m \u001b[0mstr\u001b[0m\u001b[0;34m:\u001b[0m\u001b[0;34m\u001b[0m\u001b[0;34m\u001b[0m\u001b[0m\n\u001b[1;32m    109\u001b[0m                     \u001b[0mname_term\u001b[0m \u001b[0;34m=\u001b[0m \u001b[0mname_term\u001b[0m\u001b[0;34m.\u001b[0m\u001b[0mlower\u001b[0m\u001b[0;34m(\u001b[0m\u001b[0;34m)\u001b[0m\u001b[0;34m\u001b[0m\u001b[0;34m\u001b[0m\u001b[0m\n",
      "\u001b[0;32m~/projects/hacktrud/HACKTRUDA2/jupyter notes/backend/hhparser.py\u001b[0m in \u001b[0;36mwork_exp\u001b[0;34m(content)\u001b[0m\n\u001b[1;32m     33\u001b[0m \u001b[0;32mdef\u001b[0m \u001b[0mwork_exp\u001b[0m\u001b[0;34m(\u001b[0m\u001b[0mcontent\u001b[0m\u001b[0;34m)\u001b[0m \u001b[0;34m->\u001b[0m \u001b[0mstr\u001b[0m\u001b[0;34m:\u001b[0m\u001b[0;34m\u001b[0m\u001b[0;34m\u001b[0m\u001b[0m\n\u001b[1;32m     34\u001b[0m     \u001b[0msoup\u001b[0m \u001b[0;34m=\u001b[0m \u001b[0mBeautifulSoup\u001b[0m\u001b[0;34m(\u001b[0m\u001b[0mcontent\u001b[0m\u001b[0;34m)\u001b[0m\u001b[0;34m\u001b[0m\u001b[0;34m\u001b[0m\u001b[0m\n\u001b[0;32m---> 35\u001b[0;31m     text = soup.find('span', {\n\u001b[0m\u001b[1;32m     36\u001b[0m         \u001b[0;34m'class'\u001b[0m\u001b[0;34m:\u001b[0m \u001b[0;34m'resume-block__title-text resume-block__title-text_sub'\u001b[0m\u001b[0;34m\u001b[0m\u001b[0;34m\u001b[0m\u001b[0m\n\u001b[1;32m     37\u001b[0m     }).text\n",
      "\u001b[0;31mAttributeError\u001b[0m: 'NoneType' object has no attribute 'text'"
     ]
    }
   ],
   "source": [
    "answers = []\n",
    "for i, row in tqdm(df_target_resume.sample(1).iterrows(), total=len(df_target_resume)):\n",
    "    answer = (parser.answer_questions(row['uuid'], questions_models[row['position']].values()))\n",
    "    answers.append(answer)"
   ]
  },
  {
   "cell_type": "code",
   "execution_count": 10,
   "metadata": {},
   "outputs": [
    {
     "output_type": "error",
     "ename": "NameError",
     "evalue": "name 'answers1' is not defined",
     "traceback": [
      "\u001b[0;31m---------------------------------------------------------------------------\u001b[0m",
      "\u001b[0;31mNameError\u001b[0m                                 Traceback (most recent call last)",
      "\u001b[0;32m<ipython-input-10-af11a31248a5>\u001b[0m in \u001b[0;36m<module>\u001b[0;34m\u001b[0m\n\u001b[0;32m----> 1\u001b[0;31m \u001b[0manswers1\u001b[0m\u001b[0;34m\u001b[0m\u001b[0;34m\u001b[0m\u001b[0m\n\u001b[0m",
      "\u001b[0;31mNameError\u001b[0m: name 'answers1' is not defined"
     ]
    }
   ],
   "source": [
    "answers"
   ]
  },
  {
   "cell_type": "code",
   "execution_count": null,
   "metadata": {},
   "outputs": [],
   "source": []
  }
 ]
}