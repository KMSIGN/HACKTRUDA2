{
 "metadata": {
  "language_info": {
   "codemirror_mode": {
    "name": "ipython",
    "version": 3
   },
   "file_extension": ".py",
   "mimetype": "text/x-python",
   "name": "python",
   "nbconvert_exporter": "python",
   "pygments_lexer": "ipython3",
   "version": "3.8.5-final"
  },
  "orig_nbformat": 2,
  "kernelspec": {
   "name": "python_defaultSpec_1600553439088",
   "display_name": "Python 3.8.5 64-bit ('venv': venv)"
  }
 },
 "nbformat": 4,
 "nbformat_minor": 2,
 "cells": [
  {
   "cell_type": "code",
   "execution_count": 172,
   "metadata": {},
   "outputs": [],
   "source": [
    "import requests\n",
    "from selenium import webdriver\n",
    "from selenium.webdriver.firefox.options import Options\n",
    "from bs4 import BeautifulSoup\n",
    "from string import printable\n",
    "import unicodedata\n",
    "\n",
    "\n",
    "\n",
    "base_url = \"https://spb.hh.ru/resume/\"\n",
    "\n",
    "headers = {'User-Agent': 'Mozilla/5.0 (X11; Linux x86_64) AppleWebKit/537.36 (KHTML, like Gecko) Chrome/85.0.4183.83 Safari/537.36'}"
   ]
  },
  {
   "cell_type": "code",
   "execution_count": 43,
   "metadata": {},
   "outputs": [],
   "source": [
    "options = Options()\n",
    "options.headless = True\n",
    "driver = webdriver.Firefox(options=options)"
   ]
  },
  {
   "cell_type": "code",
   "execution_count": 203,
   "metadata": {},
   "outputs": [],
   "source": [
    "def salary(content):\n",
    "    soup = BeautifulSoup(content)\n",
    "    text = soup.find('span', \n",
    "        {\n",
    "            'class':'resume-block__salary resume-block__title-text_salary',                    \"data-qa\":\"resume-block-salary\"\n",
    "        }).text\n",
    "    text = unicodedata.normalize('NFKD', text)\n",
    "    salary_list = [char for char in text if char.isdigit()]\n",
    "    return int(''.join(salary_list))"
   ]
  },
  {
   "cell_type": "code",
   "execution_count": 219,
   "metadata": {},
   "outputs": [],
   "source": [
    "def work_exp(content):\n",
    "    soup = BeautifulSoup(content)\n",
    "    text = soup.find('span', {\n",
    "            'class':'resume-block__title-text resume-block__title-text_sub'\n",
    "        }).text\n",
    "    \n",
    "    text = unicodedata.normalize('NFKD', text)\n",
    "    return text.replace('Опыт работы ', '')"
   ]
  },
  {
   "cell_type": "code",
   "execution_count": 236,
   "metadata": {},
   "outputs": [],
   "source": [
    "def drive_exp(content):\n",
    "    soup = BeautifulSoup(content)\n",
    "    div = soup.find_all('div', {\n",
    "            'data-qa':'resume-block-driver-experience'\n",
    "        })[0]\n",
    "    text = div.find_all('div', {'class': 'resume-block-item-gap'})[0].text\n",
    "    text = unicodedata.normalize('NFKD', text)\n",
    "    return text.replace('Опыт работы ', '')"
   ]
  },
  {
   "cell_type": "code",
   "execution_count": 240,
   "metadata": {},
   "outputs": [],
   "source": [
    "def education(content):\n",
    "    soup = BeautifulSoup(content)\n",
    "    div = soup.find_all('div', {\n",
    "            'data-qa':'resume-block-education'\n",
    "        })[0]\n",
    "    text = div.find_all('div', {'class': 'resume-block-item-gap'})[0].text\n",
    "    text = unicodedata.normalize('NFKD', text)\n",
    "    return text.replace('Опыт работы ', '')"
   ]
  },
  {
   "cell_type": "code",
   "execution_count": 242,
   "metadata": {},
   "outputs": [],
   "source": [
    "term_parser = {\n",
    "    'зарплата': salary,\n",
    "    'зп': salary,\n",
    "    'опыт работы': work_exp,\n",
    "    'опыт вождения': drive_exp,\n",
    "    'образование': education\n",
    "}"
   ]
  },
  {
   "cell_type": "code",
   "execution_count": 243,
   "metadata": {},
   "outputs": [],
   "source": [
    "def parser(question_terms, uid):\n",
    "    #content = download.resume(uid)\n",
    "    driver.get(base_url + uid)\n",
    "    content = driver.page_source\n",
    "    output = {}\n",
    "    for name in question_terms:\n",
    "        output[name] = term_parser[name](content)\n",
    "    return output"
   ]
  },
  {
   "cell_type": "code",
   "execution_count": 244,
   "metadata": {
    "tags": []
   },
   "outputs": [
    {
     "output_type": "execute_result",
     "data": {
      "text/plain": "{'зарплата': 40000,\n 'опыт работы': '9 месяцев',\n 'опыт вождения': 'Права категории B',\n 'образование': 'Среднее образование'}"
     },
     "metadata": {},
     "execution_count": 244
    }
   ],
   "source": [
    "parser(['зарплата', 'опыт работы', 'опыт вождения', 'образование'], 'fc6280cb00051725840039ed1f574c52506830')"
   ]
  },
  {
   "cell_type": "code",
   "execution_count": null,
   "metadata": {},
   "outputs": [],
   "source": []
  },
  {
   "cell_type": "code",
   "execution_count": null,
   "metadata": {},
   "outputs": [],
   "source": []
  }
 ]
}