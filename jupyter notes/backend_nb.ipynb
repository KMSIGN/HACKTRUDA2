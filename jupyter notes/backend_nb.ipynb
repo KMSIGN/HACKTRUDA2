{
 "cells": [
  {
   "cell_type": "code",
   "execution_count": 1,
   "metadata": {
    "tags": []
   },
   "outputs": [
    {
     "output_type": "stream",
     "name": "stderr",
     "text": "[nltk_data] Downloading package stopwords to\n[nltk_data]     /home/royalcat/nltk_data...\n[nltk_data]   Package stopwords is already up-to-date!\n"
    }
   ],
   "source": [
    "import pandas as pd\n",
    "from string import punctuation\n",
    "import numpy as np\n",
    "import multiprocessing\n",
    "import tqdm\n",
    "\n",
    "import nltk\n",
    "nltk.download(\"stopwords\")\n",
    "from nltk.corpus import stopwords\n",
    "russian_stopwords = stopwords.words(\"russian\")\n",
    "\n",
    "import rutermextract\n",
    "term_extractor = rutermextract.TermExtractor()\n",
    "\n",
    "from pymystem3 import Mystem\n",
    "mystem = Mystem() "
   ]
  },
  {
   "cell_type": "code",
   "execution_count": 2,
   "metadata": {},
   "outputs": [],
   "source": [
    "questions_models = {\n",
    "    \"Кладовщик\":{\n",
    "        \"q1\": \"Желаемая должность\",\n",
    "        \"q2\": \"У вас есть опыт работы кладовщиком?\",\n",
    "        \"q2d\": \"У вас есть опыт работы кладовщиком? строка\",\n",
    "        \"q3\": \"Укажите Ваш стаж работы кладовщиком\",\n",
    "        \"q4\": \"Отрасль\",\n",
    "        \"q5\": \"Названия компаний\",\n",
    "        \"q6\": \"С какой системой хранения Вы имели опыт работы?\",\n",
    "        \"q7\": \"Опыт работы с программами\",\n",
    "        \"q8\": \"Опыт с инструментарием\",\n",
    "        \"q9\": \"Типы работ\",\n",
    "        \"q10\": \"Сколько времени вы потратили на поиск работы кладовщика?\",\n",
    "        \"q11\": \"Уровень ЗП (желаемый)\"\n",
    "    },\n",
    "    \"Водитель погрузчика\":{\n",
    "        \"q1\": \"Желаемая должность\",\n",
    "        \"q2\": \"У вас есть водительские права?\",\n",
    "        \"q3\": \"Водительское удостоверение\",\n",
    "        \"q4\": \"Удостоверение тракториста-машиниста нового образца\",\n",
    "        \"q5\": \"Удостоверение тракториста-машиниста старого образца\",\n",
    "        \"q6\": \"У вас есть опыт работы водителем погрузчиком?\",\n",
    "        \"q7\": \"Ваш стаж работы водителем погрузчика\",\n",
    "        \"q8\": \"Сфера деятельности\",\n",
    "        \"q9\": \"Названия компаний\",\n",
    "        \"q10\": \"Какой техникой вы управляете?\",\n",
    "        \"q11\": \"Максимальная высота поднятия груза\",\n",
    "        \"q12\": \"С какой системой хранения Вы имели опыт работы?\",\n",
    "        \"q13\": \"удостоверение стропальщика?\",\n",
    "        \"q14\": \"Типы работ\",\n",
    "        \"q15\": \"Возможность провести тест-драйв на собеседовании\",\n",
    "        \"q16\": \"Ключевые качества\",\n",
    "        \"q17\": \"Знание языков\",\n",
    "        \"q19\": \"Хобби\",\n",
    "        \"q20\": \"Уровень ЗП\",\n",
    "        \"q21\": \"График работы\",\n",
    "        \"q22\": \"Ночная смена\",\n",
    "        \"q23\": \"Командировки\",\n",
    "        \"q24\": \"Станции метро\"\n",
    "    },\n",
    "    \"Официант\":{\n",
    "        \"q1\": \"Желаемая должность\",\n",
    "        \"q2\": \"Есть ли у Вас профессиональное образование в сфере гостеприимства?\",\n",
    "        \"q3\": \"профессиональное образовательное учреждение, где вы учились, и специальность\",\n",
    "        \"q4\": \"Год окончания обучения\",\n",
    "        \"q5\": \"Стаж работы официантом\",\n",
    "        \"q6\": \"Рестораны, где работал\",\n",
    "        \"q7\": \"дополнительные профессиональные знания и навыки\",\n",
    "        \"q8\": \"Знание языков\",\n",
    "        \"q9\": \"C какой посудой работали\",\n",
    "        \"q10\": \"График работы\"\n",
    "    }\n",
    "}"
   ]
  },
  {
   "cell_type": "code",
   "execution_count": 3,
   "metadata": {},
   "outputs": [],
   "source": [
    "df_resume = pd.read_csv('./../resume_to_hackaton.csv', sep=';')\n",
    "df_vac = pd.read_csv('./../vacancies_to_hackaton.csv', sep=';')\n",
    "target_positions = list(questions_models.keys())"
   ]
  },
  {
   "cell_type": "code",
   "execution_count": 4,
   "metadata": {},
   "outputs": [],
   "source": [
    "df_target_vac = df_vac[df_vac['name'].isin(target_positions)]\n",
    "df_target_resume = df_resume[df_resume['position'].isin(target_positions)]"
   ]
  },
  {
   "cell_type": "code",
   "execution_count": 83,
   "metadata": {},
   "outputs": [
    {
     "output_type": "execute_result",
     "data": {
      "text/plain": "'Встреча и приветствие гостей\\r  Обслуживание гостей кофейни\\r  Консультирование гостей по ассортименту кофейни\\r  Контроль чистоты кофейни: поддержание порядка в зале, подсобных помещениях'"
     },
     "metadata": {},
     "execution_count": 83
    }
   ],
   "source": [
    "df_target_resume['description'].sample(1).values"
   ]
  },
  {
   "cell_type": "code",
   "execution_count": 21,
   "metadata": {
    "tags": []
   },
   "outputs": [
    {
     "output_type": "stream",
     "name": "stdout",
     "text": "Кладовщик\nОбязанности:  Осуществлять работу по приему, хранению и отпуску товарно-материальных ценностей, по их размещению с учетом наиболее рационального использования складских площадей, облегчения и ускорения поиска необходимых материалов, инвентаря и т.п.; Обеспечивать сохранность складируемых товарно-материальных ценностей; Соблюдать правила и порядок хранения и складирования товарно-материальных ценностей; Участвовать в проведении инвентаризаций товарно-материальных ценностей;  Требования:  Опыт работы в должности кладовщика; Знание правил эксплуатации средств вычислительной техники, коммуникаций и связи; Знание складского документооборота; Опыт работы в складских ИТ-системах, знание Excel; Уверенный пользователь ПК.  Условия:  Оформление согласно ТК РФ; 5-ти дневная рабочая неделя; Работа в теплом складе на территории Полиграфической компании \"Конфлекс-СПБ\". \n"
    }
   ],
   "source": [
    "print(df_target_vac.iloc[5]['name'])\n",
    "print(df_target_vac.iloc[5]['description'])"
   ]
  },
  {
   "cell_type": "code",
   "execution_count": 5,
   "metadata": {
    "tags": []
   },
   "outputs": [],
   "source": [
    "def preprocess_text(text: str, word_limit: int):\n",
    "    tokens = mystem.lemmatize(text.lower())\n",
    "    tokens = [token.split(\" \") for token in tokens]\n",
    "    tokens = np.concatenate(tokens)\n",
    "    tokens = [token.strip() for token in tokens if token not in russian_stopwords\\\n",
    "              and token != \" \" \\\n",
    "              and token.strip() not in punctuation]\n",
    "    text = \" \".join(tokens)\n",
    "    terms = term_extractor(text, limit=word_limit, strings=True)\n",
    "    \n",
    "    return terms"
   ]
  },
  {
   "cell_type": "code",
   "execution_count": 6,
   "metadata": {},
   "outputs": [],
   "source": [
    "def process_text_data(question: str, text: str):\n",
    "    question_terms = preprocess_text(question, 2) \n",
    "    text_terms = preprocess_text(text, 20)\n",
    "    return question_terms, text_terms"
   ]
  },
  {
   "cell_type": "code",
   "execution_count": 7,
   "metadata": {},
   "outputs": [],
   "source": [
    "train_df = pd.DataFrame()\n",
    "train_data = []\n",
    "for i, row in df_target_vac.iterrows():\n",
    "    position = row['name']\n",
    "    text = row['description']\n",
    "    if position in questions_models:\n",
    "        questions_model = questions_models[position]\n",
    "        for question in list(questions_model.values())[1:]:\n",
    "            train_data.append({\n",
    "                \"position\": position,\n",
    "                \"question\": question,\n",
    "                \"text\": text\n",
    "            })"
   ]
  },
  {
   "cell_type": "code",
   "execution_count": 8,
   "metadata": {},
   "outputs": [
    {
     "output_type": "execute_result",
     "data": {
      "text/plain": "        position                                           question  \\\n0       Официант  Есть ли у Вас профессиональное образование в с...   \n1       Официант  профессиональное образовательное учреждение, г...   \n2       Официант                             Год окончания обучения   \n3       Официант                             Стаж работы официантом   \n4       Официант                             Рестораны, где работал   \n...          ...                                                ...   \n80504  Кладовщик                          Опыт работы с программами   \n80505  Кладовщик                             Опыт с инструментарием   \n80506  Кладовщик                                         Типы работ   \n80507  Кладовщик  Сколько времени вы потратили на поиск работы к...   \n80508  Кладовщик                              Уровень ЗП (желаемый)   \n\n                                                    text  \n0      Мы ищем активного, жизнерадостного и дружелюбн...  \n1      Мы ищем активного, жизнерадостного и дружелюбн...  \n2      Мы ищем активного, жизнерадостного и дружелюбн...  \n3      Мы ищем активного, жизнерадостного и дружелюбн...  \n4      Мы ищем активного, жизнерадостного и дружелюбн...  \n...                                                  ...  \n80504  ОАО \"Октябрьский электровагоноремонтный завод\"...  \n80505  ОАО \"Октябрьский электровагоноремонтный завод\"...  \n80506  ОАО \"Октябрьский электровагоноремонтный завод\"...  \n80507  ОАО \"Октябрьский электровагоноремонтный завод\"...  \n80508  ОАО \"Октябрьский электровагоноремонтный завод\"...  \n\n[80509 rows x 3 columns]",
      "text/html": "<div>\n<style scoped>\n    .dataframe tbody tr th:only-of-type {\n        vertical-align: middle;\n    }\n\n    .dataframe tbody tr th {\n        vertical-align: top;\n    }\n\n    .dataframe thead th {\n        text-align: right;\n    }\n</style>\n<table border=\"1\" class=\"dataframe\">\n  <thead>\n    <tr style=\"text-align: right;\">\n      <th></th>\n      <th>position</th>\n      <th>question</th>\n      <th>text</th>\n    </tr>\n  </thead>\n  <tbody>\n    <tr>\n      <th>0</th>\n      <td>Официант</td>\n      <td>Есть ли у Вас профессиональное образование в с...</td>\n      <td>Мы ищем активного, жизнерадостного и дружелюбн...</td>\n    </tr>\n    <tr>\n      <th>1</th>\n      <td>Официант</td>\n      <td>профессиональное образовательное учреждение, г...</td>\n      <td>Мы ищем активного, жизнерадостного и дружелюбн...</td>\n    </tr>\n    <tr>\n      <th>2</th>\n      <td>Официант</td>\n      <td>Год окончания обучения</td>\n      <td>Мы ищем активного, жизнерадостного и дружелюбн...</td>\n    </tr>\n    <tr>\n      <th>3</th>\n      <td>Официант</td>\n      <td>Стаж работы официантом</td>\n      <td>Мы ищем активного, жизнерадостного и дружелюбн...</td>\n    </tr>\n    <tr>\n      <th>4</th>\n      <td>Официант</td>\n      <td>Рестораны, где работал</td>\n      <td>Мы ищем активного, жизнерадостного и дружелюбн...</td>\n    </tr>\n    <tr>\n      <th>...</th>\n      <td>...</td>\n      <td>...</td>\n      <td>...</td>\n    </tr>\n    <tr>\n      <th>80504</th>\n      <td>Кладовщик</td>\n      <td>Опыт работы с программами</td>\n      <td>ОАО \"Октябрьский электровагоноремонтный завод\"...</td>\n    </tr>\n    <tr>\n      <th>80505</th>\n      <td>Кладовщик</td>\n      <td>Опыт с инструментарием</td>\n      <td>ОАО \"Октябрьский электровагоноремонтный завод\"...</td>\n    </tr>\n    <tr>\n      <th>80506</th>\n      <td>Кладовщик</td>\n      <td>Типы работ</td>\n      <td>ОАО \"Октябрьский электровагоноремонтный завод\"...</td>\n    </tr>\n    <tr>\n      <th>80507</th>\n      <td>Кладовщик</td>\n      <td>Сколько времени вы потратили на поиск работы к...</td>\n      <td>ОАО \"Октябрьский электровагоноремонтный завод\"...</td>\n    </tr>\n    <tr>\n      <th>80508</th>\n      <td>Кладовщик</td>\n      <td>Уровень ЗП (желаемый)</td>\n      <td>ОАО \"Октябрьский электровагоноремонтный завод\"...</td>\n    </tr>\n  </tbody>\n</table>\n<p>80509 rows × 3 columns</p>\n</div>"
     },
     "metadata": {},
     "execution_count": 8
    }
   ],
   "source": [
    "train_df = pd.DataFrame(train_data)\n",
    "train_df"
   ]
  },
  {
   "cell_type": "code",
   "execution_count": 46,
   "metadata": {},
   "outputs": [
    {
     "output_type": "execute_result",
     "data": {
      "text/plain": "'Обязанности:  Организация проведения отпуска товарно-материальных ценностей, осуществление подготовки товара к отгрузке (проверка факта оплаты товара, оформление необходимой документации, проверка целостности комплектации и товарного вида, демонстрация клиенту, доставка товара до автомобиля клиента). Проверка состояния, внешнего вида (целостности упаковки); Обеспечение надежной упаковки товара, предназначенного к отгрузке с сопровождением копиями отгрузочных документов; Участие в погрузо-разгрузочных работах; Участие в проведении инвентаризаций товарно-материальных ценностей.  Требования:  Опыт работы на аналогичной должности; Пользователь ПК: Word, Excel; Внимательность, ответственность.  Условия:  График работы: 5/2, 9-19, 10-20; Испытательный срок-1 месяц; Трудоустройство по ТК РФ, соц.пакет; Место работы ст.м. Электросила; Возможность карьерного роста; Молодой, дружный коллектив; Полный рабочий день, на территории работодателя. '"
     },
     "metadata": {},
     "execution_count": 46
    }
   ],
   "source": [
    "train_df.sample(1)['text'].values[0]"
   ]
  },
  {
   "cell_type": "code",
   "execution_count": 81,
   "metadata": {},
   "outputs": [],
   "source": [
    "def generate_target(position, question, text):\n",
    "    question_words = preprocess_text(question, 2)\n",
    "    print(question_words)\n",
    "    target = []\n",
    "    for word in question_words:\n",
    "        start = text.find(word) + len(word)\n",
    "        i = start\n",
    "        print(i)\n",
    "        while not text[i] in punctuation and i < len(text):\n",
    "            i += 1\n",
    "        target.append(text[start:i])\n",
    "        i = start\n",
    "        while not text[i] in punctuation and i > 0:\n",
    "            i -= 1\n",
    "        target.append(text[start-1:i])\n",
    "    return target"
   ]
  },
  {
   "cell_type": "code",
   "execution_count": 82,
   "metadata": {
    "tags": []
   },
   "outputs": [
    {
     "output_type": "stream",
     "name": "stdout",
     "text": "['профессиональный образование', 'сфера']\n27\n4\n"
    },
    {
     "output_type": "execute_result",
     "data": {
      "text/plain": "['остного и дружелюбного официанта', '', 'щем активного', '']"
     },
     "metadata": {},
     "execution_count": 82
    }
   ],
   "source": [
    "generate_target(train_data[0]['position'], train_data[0]['question'], train_data[0]['text'])"
   ]
  },
  {
   "cell_type": "code",
   "execution_count": 51,
   "metadata": {},
   "outputs": [],
   "source": [
    "import pickle\n",
    "class BagOfWordCoder:\n",
    "    vectorizer = None\n",
    "    def __init__(self, path_to_corpus):\n",
    "        if not path_to_corpus.endswith(\".vec\"):\n",
    "            raise Exception(f\"Need to be *.vec file\")\n",
    "        with open(path_to_corpus, 'rb') as f:\n",
    "            vectorizer = pickle.load(f)\n",
    "    \n",
    "    def vectorize(self, text):\n",
    "        return vectorizer.transform(text)\n",
    "    \n",
    "    def get_text(self, matrix):\n",
    "        return le.inverse_transform(matrix)\n",
    "    "
   ]
  },
  {
   "cell_type": "code",
   "execution_count": 53,
   "metadata": {},
   "outputs": [],
   "source": [
    "vectoriser = BagOfWordCoder('vectorizer.vec')"
   ]
  },
  {
   "cell_type": "code",
   "execution_count": 54,
   "metadata": {},
   "outputs": [
    {
     "output_type": "execute_result",
     "data": {
      "text/plain": "<__main__.BagOfWordCoder at 0x7fcd8e655f70>"
     },
     "metadata": {},
     "execution_count": 54
    }
   ],
   "source": []
  },
  {
   "cell_type": "code",
   "execution_count": null,
   "metadata": {},
   "outputs": [],
   "source": []
  }
 ],
 "metadata": {
  "kernelspec": {
   "display_name": "Python 3.8.5 64-bit ('hacktrud': conda)",
   "language": "python",
   "name": "python_defaultSpec_1600527031405"
  },
  "language_info": {
   "codemirror_mode": {
    "name": "ipython",
    "version": 3
   },
   "file_extension": ".py",
   "mimetype": "text/x-python",
   "name": "python",
   "nbconvert_exporter": "python",
   "pygments_lexer": "ipython3",
   "version": "3.8.5-final"
  }
 },
 "nbformat": 4,
 "nbformat_minor": 4
}