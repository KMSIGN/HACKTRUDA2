{
 "cells": [
  {
   "cell_type": "code",
   "execution_count": 1,
   "metadata": {},
   "outputs": [],
   "source": [
    "import pandas as pd"
   ]
  },
  {
   "cell_type": "code",
   "execution_count": 5,
   "metadata": {},
   "outputs": [],
   "source": [
    "df_resume = pd.read_csv('./../resume_to_hackaton.csv', sep=';')\n",
    "df_vac = pd.read_csv('./../vacancies_to_hackaton.csv', sep=';')\n",
    "target_positions = [\"Кладовщик\",  \"Комплектовщик\", \"Официант\"]"
   ]
  },
  {
   "cell_type": "code",
   "execution_count": 37,
   "metadata": {},
   "outputs": [
    {
     "output_type": "execute_result",
     "data": {
      "text/plain": "uuid                         36c13102-4a62-477b-a475-f9a5b1c48218\nposition                                       Заведующий складом\norganization                                        Оконный завод\ndescription     руководство складом и цехом по производству ко...\nstart                                                     2014-02\nend                                                       2015-09\nName: 1, dtype: object"
     },
     "metadata": {},
     "execution_count": 37
    }
   ],
   "source": [
    "df_resume.iloc[1]"
   ]
  },
  {
   "cell_type": "code",
   "execution_count": 40,
   "metadata": {},
   "outputs": [
    {
     "output_type": "execute_result",
     "data": {
      "text/plain": "11514"
     },
     "metadata": {},
     "execution_count": 40
    }
   ],
   "source": [
    "len(df_resume[df_resume['position'] == \"Кладовщик\"])"
   ]
  },
  {
   "cell_type": "code",
   "execution_count": 15,
   "metadata": {},
   "outputs": [
    {
     "output_type": "execute_result",
     "data": {
      "text/plain": "'Обязанности:   Приготовление напитков в баре  Прием и подача заказов по столикам Работа с кассой  Требования:  Желание работать и зарабатывать. Опыт работы на подобной должности будет Вашим преимуществом. А вообще всему научим и всему обучим, так что не нужно бояться приходить без опыта работы). Наличие медицинской книжки будет Вашим преимуществом.  Условия:  График сменный 2\\\\2. Будние дни с 9-00 до 21-00. Выходные дни с 9-00 до 21-00. Оформление по ТК. Оплата: 100 руб/час + % + чаевые '"
     },
     "metadata": {},
     "execution_count": 15
    }
   ],
   "source": [
    "df_vac['description'][1]"
   ]
  },
  {
   "cell_type": "code",
   "execution_count": 47,
   "metadata": {},
   "outputs": [
    {
     "output_type": "execute_result",
     "data": {
      "text/plain": "id                                                           17632940\nname                                          Ночной контролер склада\narea.name                                             Санкт-Петербург\ncity                                                   посёлок Шушары\ncompany.id                                                     141100\ncompany                                                            4Ф\ncompany_link                            https://hh.ru/employer/141100\npublication_date                             2016-07-05T10:20:51+0300\nsalary_from                                                     22000\nsalary_currency                                                   RUR\nemployment.name                                      Полная занятость\nschedule.name                                          Сменный график\nexperience.name                                             Нет опыта\nkey_skills                                                        NaN\nspecializations                                   21.563 21.564 8.202\ndescription         Обязанности:  Проверка правильности собранных ...\nName: 5, dtype: object"
     },
     "metadata": {},
     "execution_count": 47
    }
   ],
   "source": [
    "df_vac.iloc[5]"
   ]
  },
  {
   "cell_type": "code",
   "execution_count": 24,
   "metadata": {},
   "outputs": [
    {
     "output_type": "execute_result",
     "data": {
      "text/plain": "['Ответственность',\n 'Материальная ответственность',\n 'Навыки межличностного общения',\n 'Работа в команде',\n 'Грамотная речь']"
     },
     "metadata": {},
     "execution_count": 24
    }
   ],
   "source": [
    "df_vac[\"key_skills\"][1].split(\" | \")"
   ]
  },
  {
   "cell_type": "code",
   "execution_count": 59,
   "metadata": {},
   "outputs": [],
   "source": [
    "df_target_vac = df_vac[df_vac['name'].isin([\"Кладовщик\",  \"Комплектовщик\", \"Официант\"])]\n",
    "df_target_resume = df_resume[df_resume['position'].isin([\"Кладовщик\",  \"Комплектовщик\", \"Официант\"])]"
   ]
  },
  {
   "cell_type": "code",
   "execution_count": null,
   "metadata": {},
   "outputs": [],
   "source": []
  }
 ],
 "metadata": {
  "kernelspec": {
   "display_name": "Python 3",
   "language": "python",
   "name": "python3"
  },
  "language_info": {
   "codemirror_mode": {
    "name": "ipython",
    "version": 3
   },
   "file_extension": ".py",
   "mimetype": "text/x-python",
   "name": "python",
   "nbconvert_exporter": "python",
   "pygments_lexer": "ipython3",
   "version": "3.7.6-final"
  }
 },
 "nbformat": 4,
 "nbformat_minor": 4
}